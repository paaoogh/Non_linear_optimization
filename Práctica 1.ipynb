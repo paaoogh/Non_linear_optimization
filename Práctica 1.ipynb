{
 "cells": [
  {
   "cell_type": "markdown",
   "metadata": {},
   "source": [
    "# Implementación de:\n",
    "\n",
    "1. Exhaustive search\n",
    "2. Half interval divison\n",
    "3. Fibonacci\n",
    "4. Golden section"
   ]
  },
  {
   "cell_type": "code",
   "execution_count": 1,
   "metadata": {},
   "outputs": [],
   "source": [
    "import math"
   ]
  },
  {
   "cell_type": "code",
   "execution_count": 2,
   "metadata": {},
   "outputs": [],
   "source": [
    "def f(x):\n",
    "    if x==0:\n",
    "        return 0.65-(0.75/(1 + x**2))\n",
    "    else:\n",
    "        return 0.65-(0.75/(1 + x**2)) -0.65*x*math.atan(1/x)"
   ]
  },
  {
   "cell_type": "code",
   "execution_count": 6,
   "metadata": {},
   "outputs": [
    {
     "data": {
      "text/plain": [
       "6000.0"
      ]
     },
     "execution_count": 6,
     "metadata": {},
     "output_type": "execute_result"
    }
   ],
   "source": [
    "a,b = 0.0,3.0\n",
    "\n",
    "#Precisión al 0.001\n",
    "n = 2*(b-a)/0.001\n",
    "n #---> cantidad de iteraciones "
   ]
  },
  {
   "cell_type": "code",
   "execution_count": 17,
   "metadata": {},
   "outputs": [],
   "source": [
    "def Exhaustive_search(a,b,n):\n",
    "    x1 = a\n",
    "    aumento = (b-a)/n\n",
    "    x2 = x1+aumento\n",
    "    x3 = x2+aumento\n",
    "    \n",
    "    f1 = f(x1)\n",
    "    f2 = f(x2)\n",
    "    control = 2\n",
    "    while x3<=b:\n",
    "        f3 = f(x3)\n",
    "        if f1>=f2 and f2<=f3:\n",
    "            return ((x1,x2), control)\n",
    "        x1 = x2\n",
    "        x2 = x3\n",
    "        x3 += aumento\n",
    "        f1 = f2\n",
    "        f2 = f3\n",
    "        control += 1\n",
    "    return \"MINIMUM NOT FOUND\""
   ]
  },
  {
   "cell_type": "code",
   "execution_count": 18,
   "metadata": {},
   "outputs": [
    {
     "data": {
      "text/plain": [
       "((0.48050000000000037, 0.48100000000000037), 963)"
      ]
     },
     "execution_count": 18,
     "metadata": {},
     "output_type": "execute_result"
    }
   ],
   "source": [
    "Exhaustive_search(a,b,n)"
   ]
  },
  {
   "cell_type": "code",
   "execution_count": 45,
   "metadata": {},
   "outputs": [],
   "source": [
    "def Intervalos_mitad(a,b,epsilon):\n",
    "    xm = (a+b)/2\n",
    "    L = abs(b-a)\n",
    "    control = 1\n",
    "    \n",
    "    while L>epsilon:\n",
    "        x1 = a + L/4.0\n",
    "        x2 = b - L/4.0\n",
    "\n",
    "        f1 = f(x1)\n",
    "        fm = f(xm)\n",
    "        f2 = f(x2)\n",
    "        \n",
    "        #print(f1,fm,f2)\n",
    "        if f1 < fm: #el mínimo está del lado izquierdo\n",
    "            b = xm\n",
    "            xm = x1\n",
    "            control += 2\n",
    "        elif f2 <fm: #el mínimo está del lado derecho\n",
    "            a = xm\n",
    "            xm = x2 \n",
    "            control += 2\n",
    "        else: #el mínimo está en medio\n",
    "            a = x1 \n",
    "            b = x2\n",
    "            control +=2\n",
    "        L = abs(b-a)        \n",
    "    return (a,b), control"
   ]
  },
  {
   "cell_type": "code",
   "execution_count": 46,
   "metadata": {},
   "outputs": [
    {
     "data": {
      "text/plain": [
       "((0.48046875, 0.481201171875), 25)"
      ]
     },
     "execution_count": 46,
     "metadata": {},
     "output_type": "execute_result"
    }
   ],
   "source": [
    "Intervalos_mitad(a,b,0.001)"
   ]
  },
  {
   "cell_type": "code",
   "execution_count": 273,
   "metadata": {},
   "outputs": [],
   "source": [
    "def fibonacci_m(m):\n",
    "        ls = [1,1]\n",
    "        for i in range(m):\n",
    "            ls.append(ls[-1] + ls[-2])\n",
    "        return ls[m]\n",
    "\n",
    "def Fibonacci_search(a,b,n):\n",
    "    k = 2\n",
    "    L = abs(b-a)\n",
    "    \n",
    "    L_estrella = (fibonacci_m(n-k)/fibonacci_m(n))*L\n",
    "    x1 = a + L_estrella\n",
    "    x2 = b - L_estrella\n",
    "\n",
    "    f1 = round(f(x1),7) #estoy utilizando redondeo a 7 posiciones\n",
    "    f2 = round(f(x2),7)\n",
    "    evals = 2\n",
    "    while k<n:\n",
    "        L_estrella = (fibonacci_m(n-k)/fibonacci_m(n))*L\n",
    "        \n",
    "        if f1>f2:\n",
    "            a = x1 \n",
    "            \n",
    "            f1 = f2\n",
    "            x1 = x2\n",
    "            x2 = b - L_estrella\n",
    "            f2 = round(f(x2),7)\n",
    "            evals += 1\n",
    "        else:\n",
    "            b = x2\n",
    "            \n",
    "            f2 = f1\n",
    "            x2 = x1\n",
    "            x1 =a + L_estrella\n",
    "            f1 = round(f(x1),7)\n",
    "            evals += 1\n",
    "            \n",
    "        k += 1\n",
    "    return (round(a,4),round(b,3)), evals"
   ]
  },
  {
   "cell_type": "code",
   "execution_count": 271,
   "metadata": {},
   "outputs": [
    {
     "data": {
      "text/plain": [
       "3000.0"
      ]
     },
     "execution_count": 271,
     "metadata": {},
     "output_type": "execute_result"
    }
   ],
   "source": [
    "n = abs(b-a)/0.001\n",
    "n"
   ]
  },
  {
   "cell_type": "code",
   "execution_count": 274,
   "metadata": {},
   "outputs": [
    {
     "data": {
      "text/plain": [
       "((0.4793, 0.481), 18)"
      ]
     },
     "execution_count": 274,
     "metadata": {},
     "output_type": "execute_result"
    }
   ],
   "source": [
    "Fibonacci_search(a,b,18)"
   ]
  },
  {
   "cell_type": "code",
   "execution_count": 259,
   "metadata": {},
   "outputs": [],
   "source": [
    "def Golden_section(a,b,epsilon):\n",
    "    def denormalize(w, a, b):\n",
    "        return (w*(b-a))+ a\n",
    "    \n",
    "    aw = 0\n",
    "    bw = 1\n",
    "    Lw = 1\n",
    "    \n",
    "    w1 = round(aw + 0.618*Lw, 10)\n",
    "    w2 = round(bw - 0.618*Lw, 10)\n",
    "\n",
    "    f1 = round(f(denormalize(w1, a, b)),10)\n",
    "    f2 = round(f(denormalize(w2, a, b)),10)\n",
    "    control = 2\n",
    "    \n",
    "    \n",
    "    if f1 < f2:\n",
    "        aw = w2\n",
    "    else:\n",
    "        bw = w1\n",
    "        \n",
    "    Lw = bw-aw\n",
    "    while Lw > (epsilon/abs(b-a)):\n",
    "        w1 = round(aw + 0.618*Lw, 10)\n",
    "        w2 = round(bw - 0.618*Lw, 10)\n",
    "        if f1<f2:\n",
    "            aw = w2\n",
    "            \n",
    "            w2 = round(bw - 0.618*Lw, 10)\n",
    "            f2 = round(f(denormalize(w2, a, b)),10)\n",
    "            \n",
    "        else:\n",
    "            bw = w1\n",
    "            \n",
    "            w1 = round(aw + 0.618*Lw, 10)\n",
    "            f1 = round(f(denormalize(w1, a, b)), 10)\n",
    "            \n",
    "        control += 1\n",
    "        Lw = bw-aw\n",
    "\n",
    "    return ((round(aw,4)*(b-a))+a, (round(bw,5)*(b-a))+a), control"
   ]
  },
  {
   "cell_type": "code",
   "execution_count": 260,
   "metadata": {},
   "outputs": [
    {
     "data": {
      "text/plain": [
       "((0.4806, 0.48153), 18)"
      ]
     },
     "execution_count": 260,
     "metadata": {},
     "output_type": "execute_result"
    }
   ],
   "source": [
    "Golden_section(a,b,0.001)"
   ]
  },
  {
   "cell_type": "markdown",
   "metadata": {},
   "source": [
    "# Validate manually the amount of evaluations made per algorithm fiven the precision "
   ]
  },
  {
   "cell_type": "markdown",
   "metadata": {},
   "source": [
    "## Exhaustive Search\n",
    "\n",
    "$$Precision = 0.001$$ within an interval of (0,3)\n",
    "\n",
    "$$∆x = \\frac{(b-a)}{n} = \\frac{(3-0)}{n} = \\frac{3}{n}$$ wich is the size of the intervale returned by the algorithm.\n",
    "\n",
    "We know that: \n",
    "$$2*∆x = Precision$$\n",
    "\n",
    "Then:\n",
    "\n",
    "$$2* \\frac{3}{n} = 0.001$$ with the number of iterations as variable to search: \n",
    "\n",
    "$$n = \\frac{2*(3)}{0.001} = 6000$$\n",
    "\n",
    "Then: **6,000 evaluations of the function**\n",
    "\n",
    "\n",
    "## Interval Division per Half\n",
    "\n",
    "Given the size of the interval L remaining after n-iterations and the precision wanted: \n",
    "$$Precision = L*\\frac{1}{2}^\\frac{n}{2} = 0.001$$ \n",
    "\n",
    "Having n as our variable:\n",
    "$$\\frac{0.001}{L} = \\frac{1}{2}^\\frac{n}{2}$$\n",
    "\n",
    "Solving for n: as L=3\n",
    "$$n = 2* \\frac{log{0.001/3}}{log{\\frac{1}{2}}} \\approx 23.101493570766486...$$\n",
    "\n",
    "Then: **23 evaluations of the function**\n",
    "\n",
    "\n",
    "## Fibonacci\n",
    "\n",
    "Let the size of our interval of interest be the following for a given k=n:\n",
    "\n",
    "$$L = L*\\frac{F_{k-n+1}}{F_{n}} = L*\\frac{F_{n-n+1}}{F_{n}} = L*\\frac{F_{1}}{F_{n}}$$ (1)\n",
    "\n",
    "And, as definition of the Fibonacci evaluation:\n",
    "\n",
    "$$F_{0} = F_{1} = 1$$\n",
    "\n",
    "Ecuation (1) would be:\n",
    "\n",
    "$$L = \\frac{L}{F_{n}}$$\n",
    "\n",
    "Though we know that L=(b-a) = 3 and we also know that the precision we are looking for is 0.001, meaning the size of the interval we will have at the end:\n",
    "\n",
    "$$\\frac{3}{F_{n}} = 0.001$$\n",
    "\n",
    "$$Fn = \\frac{3}{0.001} >= 3000$$  (2)\n",
    "\n",
    "As Fibonacci Search does one evaluation per iteration, we are looking for the n where (2) is true: [1,1,2,3,5,8,13,21,34,55,89,144,233,377,610,987,1597,2585,4182]\n",
    "\n",
    "$$F_{n} \\approx 3000 : n=18$$\n",
    "\n",
    "Then: **19 evaluations will be the most as we should not be having things smaller than 3,000**\n",
    "\n",
    "## Golden Search\n",
    "\n",
    "After n-evaluations of the target function, if we are considering the orginal itnerval (a,b), the remaining interval witll be size:\n",
    "\n",
    "$$(b-a)*τ^{(n-1)}$$\n",
    "\n",
    "As thinking about the precision as the final interval size:\n",
    "\n",
    "$$Precision = (b-a)*τ^{(n-1)}$$\n",
    "\n",
    "Solving for n:\n",
    "\n",
    "$$n = \\frac{log{\\frac{Precision}{(b-a)}}}{log{0.618}} +1$$\n",
    "\n",
    "Then: **18 will be the most iterations**"
   ]
  },
  {
   "cell_type": "markdown",
   "metadata": {},
   "source": [
    "# Plot the function in the given interval"
   ]
  },
  {
   "cell_type": "code",
   "execution_count": 48,
   "metadata": {},
   "outputs": [],
   "source": [
    "import matplotlib.pyplot as plt\n",
    "import numpy as np"
   ]
  },
  {
   "cell_type": "code",
   "execution_count": 52,
   "metadata": {},
   "outputs": [],
   "source": [
    "xpoints = np.arange(a,b,0.001)\n",
    "ypoints = [f(x) for x in xpoints]"
   ]
  },
  {
   "cell_type": "code",
   "execution_count": 55,
   "metadata": {},
   "outputs": [
    {
     "data": {
      "image/png": "[encoded data removed]",
      "text/plain": [
       "<Figure size 432x288 with 1 Axes>"
      ]
     },
     "metadata": {
      "needs_background": "light"
     },
     "output_type": "display_data"
    }
   ],
   "source": [
    "fig, ax = plt.subplots()\n",
    "ax.plot(xpoints,ypoints, color=\"r\")\n",
    "ax.grid()"
   ]
  },
  {
   "cell_type": "markdown",
   "metadata": {},
   "source": [
    "# Which method is the most efficient? Why?"
   ]
  },
  {
   "cell_type": "markdown",
   "metadata": {},
   "source": [
    "Given the fractional reduction bellow, the four methods used here will be evaluated to see how small did the initial interval can become with specific amounts of iterations. This is an indicator of how much precision we will have at the moment of using an optimization method. \n",
    "\n",
    "$$Fractional Reduction(N) = \\frac{L_{N}}{L_{0}}$$\n",
    "\n",
    "The numerator is already given for each method when obtaining the number of iterations but will be desplayed bellow:\n",
    "\n",
    "- Exhaustive Search: $$L_{N} = \\frac{2*L_{0}}{N}$$ (1)\n",
    "$$RF(N) = \\frac{\\frac{2*L_{0}}{N}}{L_{0}} = \\frac{2}{N}$$ (2)\n",
    "- Halves Interval Division: $$L_{N} = \\frac{1}{2}^{\\frac{N}{2}} *L_{0}$$ (1)\n",
    "$$RF(N) = \\frac{\\frac{1}{2}^{\\frac{N}{2}} *L_{0}}{L_{0}} = \\frac{1}{2}^{\\frac{N}{2}} $$ (2)\n",
    "- Fibonacci: $$L_{N} = \\frac{L_{0}}{F_{N}}$$ (1)\n",
    "$$RF(N) = \\frac{\\frac{L_{0}}{F_{N}}}{L_{0}} = \\frac{1}{F_{N}}$$ (2)\n",
    "- Golden Section: $$L_{N} = (0.618)^{N-1} *L_{0}$$ (1)\n",
    "$$RF(N) = \\frac{(0.618)^{N-1} *L_{0}}{L_{0}} = (0.618)^{N-1}$$ (2)"
   ]
  },
  {
   "cell_type": "code",
   "execution_count": 275,
   "metadata": {},
   "outputs": [],
   "source": [
    "def RF_es(N):\n",
    "    return 2/N\n",
    "\n",
    "def RF_hid(N):\n",
    "    return (0.5)**(N/2)\n",
    "\n",
    "def RF_fib(N):\n",
    "    return 1/fibonacci_m(N)\n",
    "\n",
    "def RF_gold(N):\n",
    "    return 0.618**(N-1)"
   ]
  },
  {
   "cell_type": "markdown",
   "metadata": {},
   "source": [
    "Displaying Fractionl Reduction for 5, 10, 15, 20, 50, 80, 100, 500:"
   ]
  },
  {
   "cell_type": "code",
   "execution_count": 296,
   "metadata": {},
   "outputs": [],
   "source": [
    "Iteraciones = [5, 10, 15, 20, 50, 80, 100, 500]"
   ]
  },
  {
   "cell_type": "code",
   "execution_count": 297,
   "metadata": {},
   "outputs": [],
   "source": [
    "es = []\n",
    "hid = []\n",
    "fib = []\n",
    "gold = []\n",
    "for i in Iteraciones:\n",
    "    es.append(RF_es(i))\n",
    "    hid.append(RF_hid(i))\n",
    "    fib.append(RF_fib(i))\n",
    "    gold.append(RF_gold(i))"
   ]
  },
  {
   "cell_type": "code",
   "execution_count": 298,
   "metadata": {},
   "outputs": [],
   "source": [
    "import pandas as pd"
   ]
  },
  {
   "cell_type": "code",
   "execution_count": 299,
   "metadata": {},
   "outputs": [],
   "source": [
    "Reducciones1 = pd.DataFrame(data = [es,hid,fib,gold], columns=Iteraciones)"
   ]
  },
  {
   "cell_type": "code",
   "execution_count": 301,
   "metadata": {},
   "outputs": [],
   "source": [
    "Reducciones1[\"Name\"] = [\"Exhaustive Search\", \"Halves Internal Search\", \"Fibonacci Search\", \"Golden Section\"]"
   ]
  },
  {
   "cell_type": "code",
   "execution_count": 302,
   "metadata": {},
   "outputs": [
    {
     "data": {
      "text/html": [
       "<div>\n",
       "<style scoped>\n",
       "    .dataframe tbody tr th:only-of-type {\n",
       "        vertical-align: middle;\n",
       "    }\n",
       "\n",
       "    .dataframe tbody tr th {\n",
       "        vertical-align: top;\n",
       "    }\n",
       "\n",
       "    .dataframe thead th {\n",
       "        text-align: right;\n",
       "    }\n",
       "</style>\n",
       "<table border=\"1\" class=\"dataframe\">\n",
       "  <thead>\n",
       "    <tr style=\"text-align: right;\">\n",
       "      <th></th>\n",
       "      <th>5</th>\n",
       "      <th>10</th>\n",
       "      <th>15</th>\n",
       "      <th>20</th>\n",
       "      <th>50</th>\n",
       "      <th>80</th>\n",
       "      <th>100</th>\n",
       "      <th>500</th>\n",
       "    </tr>\n",
       "    <tr>\n",
       "      <th>Name</th>\n",
       "      <th></th>\n",
       "      <th></th>\n",
       "      <th></th>\n",
       "      <th></th>\n",
       "      <th></th>\n",
       "      <th></th>\n",
       "      <th></th>\n",
       "      <th></th>\n",
       "    </tr>\n",
       "  </thead>\n",
       "  <tbody>\n",
       "    <tr>\n",
       "      <th>Exhaustive Search</th>\n",
       "      <td>0.400000</td>\n",
       "      <td>0.200000</td>\n",
       "      <td>0.133333</td>\n",
       "      <td>0.100000</td>\n",
       "      <td>4.000000e-02</td>\n",
       "      <td>2.500000e-02</td>\n",
       "      <td>2.000000e-02</td>\n",
       "      <td>4.000000e-03</td>\n",
       "    </tr>\n",
       "    <tr>\n",
       "      <th>Halves Internal Search</th>\n",
       "      <td>0.176777</td>\n",
       "      <td>0.031250</td>\n",
       "      <td>0.005524</td>\n",
       "      <td>0.000977</td>\n",
       "      <td>2.980232e-08</td>\n",
       "      <td>9.094947e-13</td>\n",
       "      <td>8.881784e-16</td>\n",
       "      <td>5.527148e-76</td>\n",
       "    </tr>\n",
       "    <tr>\n",
       "      <th>Fibonacci Search</th>\n",
       "      <td>0.125000</td>\n",
       "      <td>0.011236</td>\n",
       "      <td>0.001013</td>\n",
       "      <td>0.000091</td>\n",
       "      <td>4.910383e-11</td>\n",
       "      <td>2.639284e-17</td>\n",
       "      <td>1.744751e-21</td>\n",
       "      <td>4.432791e-105</td>\n",
       "    </tr>\n",
       "    <tr>\n",
       "      <th>Golden Section</th>\n",
       "      <td>0.145866</td>\n",
       "      <td>0.013149</td>\n",
       "      <td>0.001185</td>\n",
       "      <td>0.000107</td>\n",
       "      <td>5.733704e-11</td>\n",
       "      <td>3.076731e-17</td>\n",
       "      <td>2.031697e-21</td>\n",
       "      <td>5.049508e-105</td>\n",
       "    </tr>\n",
       "  </tbody>\n",
       "</table>\n",
       "</div>"
      ],
      "text/plain": [
       "                             5         10        15        20            50   \\\n",
       "Name                                                                           \n",
       "Exhaustive Search       0.400000  0.200000  0.133333  0.100000  4.000000e-02   \n",
       "Halves Internal Search  0.176777  0.031250  0.005524  0.000977  2.980232e-08   \n",
       "Fibonacci Search        0.125000  0.011236  0.001013  0.000091  4.910383e-11   \n",
       "Golden Section          0.145866  0.013149  0.001185  0.000107  5.733704e-11   \n",
       "\n",
       "                                 80            100            500  \n",
       "Name                                                               \n",
       "Exhaustive Search       2.500000e-02  2.000000e-02   4.000000e-03  \n",
       "Halves Internal Search  9.094947e-13  8.881784e-16   5.527148e-76  \n",
       "Fibonacci Search        2.639284e-17  1.744751e-21  4.432791e-105  \n",
       "Golden Section          3.076731e-17  2.031697e-21  5.049508e-105  "
      ]
     },
     "execution_count": 302,
     "metadata": {},
     "output_type": "execute_result"
    }
   ],
   "source": [
    "Reducciones1.set_index(\"Name\")"
   ]
  },
  {
   "cell_type": "code",
   "execution_count": 309,
   "metadata": {},
   "outputs": [],
   "source": [
    "import matplotlib.pyplot as plt"
   ]
  },
  {
   "cell_type": "code",
   "execution_count": 340,
   "metadata": {},
   "outputs": [
    {
     "data": {
      "text/plain": [
       "0.020038403652783247"
      ]
     },
     "execution_count": 340,
     "metadata": {},
     "output_type": "execute_result"
    }
   ],
   "source": [
    "Reducciones1.loc[i][:-1].sum()/len(Xpoints)"
   ]
  },
  {
   "cell_type": "code",
   "execution_count": 346,
   "metadata": {},
   "outputs": [
    {
     "data": {
      "image/png": "[encoded data removed]",
      "text/plain": [
       "<Figure size 1080x1080 with 1 Axes>"
      ]
     },
     "metadata": {
      "needs_background": "light"
     },
     "output_type": "display_data"
    }
   ],
   "source": [
    "fig, ax = plt.subplots(figsize=(15,15))\n",
    "Xpoints = list(Reducciones1.columns)[:-1]\n",
    "labels = list(Reducciones1[\"Name\"])\n",
    "for i in range(4):\n",
    "    ax.scatter(Xpoints,Reducciones1.loc[i][:-1], label=labels[i])\n",
    "    ax.scatter(sum(Xpoints)/len(Xpoints),Reducciones1.loc[i][:-1].sum()/len(Xpoints), marker='D', label=\"Average of \"+labels[i])\n",
    "    ax.plot(Xpoints,Reducciones1.loc[i][:-1])\n",
    "    plt.legend()\n",
    "    \n",
    "plt.grid()"
   ]
  },
  {
   "cell_type": "markdown",
   "metadata": {},
   "source": [
    "Fibonacci Search is the best in matters of precision. It reduces the search space very quickly and, even in this average, it outperforms by far the results of Exhaustive Search. Nonetheless, it is the most computationally expensive as many calculations are repeated on each iteration. The Golden Section Search has a very similar performance, as increasing the amount of iterations, it becomes more and more similar to Fibonacci considerably fast and has no repeated calculations on arrays.\n",
    "\n",
    "For the specific case that we are considering in this exercise even Golden Section Search is better. \n",
    "\n",
    "Conclusion: **Golden Section Search is the most eficien in terms of memory and execution time.**"
   ]
  },
  {
   "cell_type": "code",
   "execution_count": null,
   "metadata": {},
   "outputs": [],
   "source": []
  }
 ],
 "metadata": {
  "kernelspec": {
   "display_name": "Python 3",
   "language": "python",
   "name": "python3"
  },
  "language_info": {
   "codemirror_mode": {
    "name": "ipython",
    "version": 3
   },
   "file_extension": ".py",
   "mimetype": "text/x-python",
   "name": "python",
   "nbconvert_exporter": "python",
   "pygments_lexer": "ipython3",
   "version": "3.8.5"
  }
 },
 "nbformat": 4,
 "nbformat_minor": 4
}
