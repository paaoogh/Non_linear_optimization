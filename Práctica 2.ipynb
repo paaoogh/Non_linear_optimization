{
 "cells": [
  {
   "cell_type": "markdown",
   "metadata": {},
   "source": [
    "# 1. Find the optimal for the following function:\n",
    "\n",
    "$$max f(x) = \\frac{0.5}{\\sqrt{1+x^2}} - \\sqrt{1+x^2} (1-\\frac{0.5}{1+x^2}) + x$$\n",
    "\n",
    "\n",
    "Use:\n",
    "1. Quadratic Estimator\n",
    "2. Newton - Rhapson method\n",
    "3. Cuasi Newton method\n",
    "4. Bisection method\n",
    "5. Secant method\n",
    "\n",
    "## Suficient and necessary conditions:\n",
    "\n",
    "First derivative:\n",
    "\n",
    "$$f'(x) = 0.5\\frac{d(\\frac{1}{1+x^2})}{dx} - \\frac{d[(\\sqrt{1+x^2})(1 - \\frac{0.5}{1+x^2})]}{dx} + \\frac{dx}{dx}$$\n",
    "\n",
    "$$f'(x) = -\\frac{x(1-\\frac{1}{2(1+x^2)})}{\\sqrt{1+x^2}}-\\frac{3x}{2(1+x^2)^{3/2}}+1$$\n",
    "\n",
    "$$f'(x) = \\frac{(1+x^2)^{3/2} - x^3 - 2x}{(1+x^2)^{3/2}}$$\n",
    "\n",
    "$$f'(x) = 1 - \\frac{2x+x^3}{(1+x^2)^{3/2}}$$\n",
    "Second derivative:\n",
    "\n",
    "$$f''(x) = \\frac{-x^2+2}{(1+x^2)^{5/2}}$$\n",
    "\n"
   ]
  },
  {
   "cell_type": "code",
   "execution_count": 337,
   "metadata": {},
   "outputs": [],
   "source": [
    "import math"
   ]
  },
  {
   "cell_type": "code",
   "execution_count": 260,
   "metadata": {},
   "outputs": [],
   "source": [
    "import matplotlib.pyplot as plt\n",
    "import numpy as np"
   ]
  },
  {
   "cell_type": "code",
   "execution_count": 356,
   "metadata": {},
   "outputs": [],
   "source": [
    "def f(x):\n",
    "    global control\n",
    "    control += 1\n",
    "    #return (0.5/math.sqrt(1 + (x^2))) - (math.sqrt(1 + (x^2))*(1 - 0.5/(1+(x^2)))) + x\n",
    "    return (0.5/(1+x**2)**(1/2)) - (1+x**2)**(1/2) * (1- (0.5/(1+x**2))) + x\n",
    "\n",
    "def deriv_f(x):\n",
    "    global control_primera\n",
    "    control_primera +=1\n",
    "    #numerador = ((1 + (x**2))**(3/2)) - (x**3) - 2.0*x\n",
    "    #denominador = ((x**2)+1)**(3/2)\n",
    "    #return numerador/denominador\n",
    "    return 1-((2*x + x**3)/(1+x**2)**(3/2))\n",
    "\n",
    "def second_deriv_f(x):\n",
    "    global control_segunda\n",
    "    control_segunda +=1\n",
    "    return ((x**2 - 2))/((1 + (x**2))**5/2)"
   ]
  },
  {
   "cell_type": "code",
   "execution_count": 440,
   "metadata": {},
   "outputs": [],
   "source": [
    "def Quadratic(x1, delta, epsilon):\n",
    "    global control\n",
    "    control = 0\n",
    "    \n",
    "    def Optimal(a1,a2,x1,x2):\n",
    "        return ((x2+x1)/2) - (a1/(2*a2))\n",
    "    \n",
    "    def Get_A(f1,f2,f3,x1,x2,x3):\n",
    "        a0 = f1\n",
    "        a1 = (f2-f1)/(x2-x1)\n",
    "        a2 = (1/(x3-x2))*(((f3-f1)/(x3-x1)) - a1)\n",
    "        return a0,a1,a2\n",
    "        \n",
    "    x2 = x1+ delta\n",
    "    f1 = -f(x1)\n",
    "    f2 = -f(x2)\n",
    "    \n",
    "    if f1>f2:\n",
    "        x3 = x1 + 2*delta\n",
    "    else:\n",
    "        x3 = x1 - delta\n",
    "        \n",
    "    x1,x2,x3 = sorted([x1,x2,x3])\n",
    "    f1,f3,f3 = -f(x1), -f(x2), -f(x3)\n",
    "    dic = {x1:f1, x2:f2, x3:f3}\n",
    "    \n",
    "    #fmin = f1\n",
    "    #xmin = x1\n",
    "    \n",
    "    #a0,a1,a2 = Get_A(f1,f2,f3,x1,x2,x3)\n",
    "    #xb = Optimal(a1,a2,x1,x2)\n",
    "    #fb = -f(xb)\n",
    "    #dic[xb] = fb\n",
    "    \n",
    "    while True:\n",
    "        xmin, fmin = min(dic.items(), key = lambda x : x[1])\n",
    "        a0,a1,a2 = Get_A(f1,f2,f3,x1,x2,x3)\n",
    "        xb = Optimal(a1,a2,x1,x2)\n",
    "        fb = -f(xb)\n",
    "        \n",
    "        if abs(xmin-xb)<=epsilon:\n",
    "            break\n",
    "            \n",
    "        dic = {x1:f1, x2:f2, x3:f3, xb:fb}\n",
    "        \n",
    "        #Ordering by the value of the function, getting the best three points\n",
    "        dic = dict(sorted(dic.items(), key = lambda x : x[1])[:3])\n",
    "        dic = dict(sorted(dic.items(), key = lambda x : x[0]))\n",
    "        x1 = list(dic.keys())[0]\n",
    "        x2 = list(dic.keys())[1]\n",
    "        x3 = list(dic.keys())[2]\n",
    "        f1 = dic[x1]\n",
    "        f2 = dic[x2]\n",
    "        f3 = dic[x3]\n",
    "        \n",
    "    return (xb,-fb), control"
   ]
  },
  {
   "cell_type": "code",
   "execution_count": 441,
   "metadata": {},
   "outputs": [],
   "source": [
    "x0 = float(0.0)\n",
    "delta = float(0.1)\n",
    "epsilon = float(0.0001)"
   ]
  },
  {
   "cell_type": "code",
   "execution_count": 442,
   "metadata": {},
   "outputs": [
    {
     "data": {
      "text/plain": [
       "((0.7861499421954391, 0.30028310600035), 14)"
      ]
     },
     "execution_count": 442,
     "metadata": {},
     "output_type": "execute_result"
    }
   ],
   "source": [
    "Quadratic(0,0.1,0.0001)"
   ]
  },
  {
   "cell_type": "code",
   "execution_count": 358,
   "metadata": {},
   "outputs": [],
   "source": [
    "def Newton_Raphson(x,epsilon):\n",
    "    global control_primera\n",
    "    control_primera = 0\n",
    "    \n",
    "    fd = -deriv_f(x)\n",
    "    fD2 = -second_deriv_f(x)\n",
    "    while abs(fd)>epsilon:\n",
    "        x = x - (fd/fD2)\n",
    "        fd = -deriv_f(x)\n",
    "        fD2 = -second_deriv_f(x)\n",
    "        \n",
    "    return (x, f(x)), control_primera"
   ]
  },
  {
   "cell_type": "code",
   "execution_count": 359,
   "metadata": {},
   "outputs": [
    {
     "data": {
      "text/plain": [
       "((0.7863913962209089, 0.3002830940508953), 16)"
      ]
     },
     "execution_count": 359,
     "metadata": {},
     "output_type": "execute_result"
    }
   ],
   "source": [
    "Newton_Raphson(0,0.0001)"
   ]
  },
  {
   "cell_type": "code",
   "execution_count": 495,
   "metadata": {},
   "outputs": [],
   "source": [
    "def Cuasi_Newton(x, epsilon, delta):\n",
    "    global control\n",
    "    control = 0\n",
    "    \n",
    "    def d_1(fxMas, fxMenos, delta):\n",
    "        return (fxMas - fxMenos)/(2*delta)\n",
    "    def d_2(fxMas, fxMenos,fx, delta):\n",
    "        return (fxMas - 2*fx + fxMenos)/(delta**2)\n",
    "    \n",
    "    xk = x\n",
    "    while True:\n",
    "        fxMas = -f(xk+delta)\n",
    "        fxMenos = -f(xk-delta)\n",
    "        fd = d_1(fxMas, fxMenos, delta)\n",
    "        if not abs(fd) > epsilon:\n",
    "            break\n",
    "        xk -= (fd/d_2(fxMas, fxMenos, -f(xk), delta))\n",
    "        \n",
    "        #fd = d_1(fxMas, fxMenos, delta)\n",
    "        #fD2 = d_2(fxMas, fxMenos, fx, delta)    \n",
    "        \n",
    "    return (xk, f(xk), control)\n",
    "    "
   ]
  },
  {
   "cell_type": "code",
   "execution_count": 496,
   "metadata": {},
   "outputs": [
    {
     "data": {
      "text/plain": [
       "(0.7862107082758227, 0.3002831052704398, 18)"
      ]
     },
     "execution_count": 496,
     "metadata": {},
     "output_type": "execute_result"
    }
   ],
   "source": [
    "Cuasi_Newton(0, 0.0001, 0.01)"
   ]
  },
  {
   "cell_type": "code",
   "execution_count": 241,
   "metadata": {},
   "outputs": [],
   "source": [
    "def Bisection(epsilon, a, b):\n",
    "    global control_primera\n",
    "    control_primera = 0\n",
    "    \n",
    "    \n",
    "    while True:\n",
    "        z = (a+b)/2\n",
    "        fz = -deriv_f(z)\n",
    "        if abs(fz)<=epsilon:\n",
    "            break\n",
    "            \n",
    "        if fz<0:\n",
    "            a = z\n",
    "        else:\n",
    "            b = z\n",
    "        z = (a+b)/2\n",
    "        fz = deriv_f(z)\n",
    "    return (z,f(z)), control_primera"
   ]
  },
  {
   "cell_type": "code",
   "execution_count": 242,
   "metadata": {},
   "outputs": [
    {
     "data": {
      "text/plain": [
       "((0.7861328125, 0.3002831059292606), 19)"
      ]
     },
     "execution_count": 242,
     "metadata": {},
     "output_type": "execute_result"
    }
   ],
   "source": [
    "Bisection(0.0001, 0, 5)"
   ]
  },
  {
   "cell_type": "code",
   "execution_count": 228,
   "metadata": {},
   "outputs": [],
   "source": [
    "def Secant(epsilon, xl, xr):\n",
    "    global control_primera\n",
    "    control_primera=0\n",
    "    f_r = -deriv_f(xr)\n",
    "    f_l = -deriv_f(xl)\n",
    "\n",
    "    z = xr - (f_r*(xr-xl))/(f_r-f_l)\n",
    "    f_z = -deriv_f(z)\n",
    "    \n",
    "    #control_primera = 0\n",
    "    while abs(f_z)>epsilon:\n",
    "        if f_z<0:\n",
    "            xl = z\n",
    "            f_l = f_z\n",
    "\n",
    "        else:\n",
    "            xr = z\n",
    "            f_r = z\n",
    "            \n",
    "        z = xr - (f_r*(xr-xl))/(f_r-f_l)\n",
    "        f_z = -deriv_f(z) \n",
    "    return (z,f(z)), control_primera"
   ]
  },
  {
   "cell_type": "code",
   "execution_count": 229,
   "metadata": {},
   "outputs": [
    {
     "data": {
      "text/plain": [
       "((0.7859158722028489, 0.3002830944895357), 225)"
      ]
     },
     "execution_count": 229,
     "metadata": {},
     "output_type": "execute_result"
    }
   ],
   "source": [
    "Secant(0.0001, 0, 5)"
   ]
  },
  {
   "cell_type": "code",
   "execution_count": 227,
   "metadata": {},
   "outputs": [
    {
     "data": {
      "text/plain": [
       "225"
      ]
     },
     "execution_count": 227,
     "metadata": {},
     "output_type": "execute_result"
    }
   ],
   "source": [
    "control_primera"
   ]
  },
  {
   "cell_type": "markdown",
   "metadata": {},
   "source": [
    "# Plot the function in the interval [x* - 1, x* +1]"
   ]
  },
  {
   "cell_type": "code",
   "execution_count": 268,
   "metadata": {},
   "outputs": [
    {
     "data": {
      "text/plain": [
       "[]"
      ]
     },
     "execution_count": 268,
     "metadata": {},
     "output_type": "execute_result"
    },
    {
     "data": {
      "image/png": "[encoded data removed]",
      "text/plain": [
       "<Figure size 432x288 with 1 Axes>"
      ]
     },
     "metadata": {
      "needs_background": "light"
     },
     "output_type": "display_data"
    }
   ],
   "source": [
    "x = np.linspace(0.786-1, 1.786, 150)\n",
    "plt.plot(x, f(x), color=\"r\")\n",
    "plt.title(\"f(X)\")\n",
    "plt.grid(True)\n",
    "plt.plot()"
   ]
  },
  {
   "cell_type": "markdown",
   "metadata": {},
   "source": [
    "# Choose a method to solve for the following:\n",
    "\n",
    "$$min. g(x) = e^x - x^3$$\n",
    "\n",
    "Specify parameters and plot the function within the interval that contains the optimum. "
   ]
  },
  {
   "cell_type": "code",
   "execution_count": 326,
   "metadata": {},
   "outputs": [],
   "source": [
    "#Newton - Rhapson\n",
    "\n",
    "def g(x):\n",
    "    global control\n",
    "    control += 1\n",
    "    return (math.e**x) - (x**3)\n",
    "\n",
    "def deriv_g(x):\n",
    "    global control_primera\n",
    "    control_primera += 1\n",
    "    return (math.e**x) -3*(x**2)\n",
    "\n",
    "def second_deriv_g(x):\n",
    "    global control_segunda\n",
    "    control_segunda += 1\n",
    "    return (math.e**x) - 6*x"
   ]
  },
  {
   "cell_type": "code",
   "execution_count": 294,
   "metadata": {},
   "outputs": [],
   "source": [
    "def Newton_Raphson(x,epsilon):\n",
    "    global control_primera\n",
    "    control_primera = 0\n",
    "    \n",
    "    fd = deriv_g(x)\n",
    "    fD2 = second_deriv_g(x)\n",
    "    while abs(fd)>epsilon:\n",
    "        x = x - (fd/fD2)\n",
    "        fd = deriv_f(x)\n",
    "        fD2 = second_deriv_f(x)\n",
    "        \n",
    "    return (x, g(x)), control_primera"
   ]
  },
  {
   "cell_type": "code",
   "execution_count": 296,
   "metadata": {},
   "outputs": [
    {
     "data": {
      "text/plain": [
       "((0.7838195002619884, 1.7082627870781988), 11)"
      ]
     },
     "execution_count": 296,
     "metadata": {},
     "output_type": "execute_result"
    }
   ],
   "source": [
    "Newton_Raphson(2.5,0.001)"
   ]
  },
  {
   "cell_type": "code",
   "execution_count": 299,
   "metadata": {},
   "outputs": [
    {
     "data": {
      "text/plain": [
       "((0.7882073928123257, 1.709759828456015), 12)"
      ]
     },
     "execution_count": 299,
     "metadata": {},
     "output_type": "execute_result"
    }
   ],
   "source": [
    "Newton_Raphson(2,0.001)"
   ]
  },
  {
   "cell_type": "code",
   "execution_count": 300,
   "metadata": {},
   "outputs": [
    {
     "data": {
      "text/plain": [
       "((0.7837627734769412, 1.708243115784429), 11)"
      ]
     },
     "execution_count": 300,
     "metadata": {},
     "output_type": "execute_result"
    }
   ],
   "source": [
    "Newton_Raphson(1.5,0.001)"
   ]
  },
  {
   "cell_type": "code",
   "execution_count": 301,
   "metadata": {},
   "outputs": [
    {
     "data": {
      "text/plain": [
       "((0.7839731351396544, 1.708316022829315), 10)"
      ]
     },
     "execution_count": 301,
     "metadata": {},
     "output_type": "execute_result"
    }
   ],
   "source": [
    "Newton_Raphson(1,0.001)"
   ]
  },
  {
   "cell_type": "code",
   "execution_count": 306,
   "metadata": {},
   "outputs": [
    {
     "data": {
      "text/plain": [
       "((0.7863290003004584, 1.7091249107573492), 14)"
      ]
     },
     "execution_count": 306,
     "metadata": {},
     "output_type": "execute_result"
    }
   ],
   "source": [
    "Newton_Raphson(0.75,0.0001)"
   ]
  },
  {
   "cell_type": "markdown",
   "metadata": {},
   "source": [
    "Por la izquierda, hacia -2.5 diverge esta función y parece ser uqe se atora alrededor de un mínimo local en 1.708 aproximadamente por la izquierda"
   ]
  },
  {
   "cell_type": "code",
   "execution_count": 297,
   "metadata": {},
   "outputs": [
    {
     "data": {
      "text/plain": [
       "((299.499879387953, 1.1779990735005977e+130), 3)"
      ]
     },
     "execution_count": 297,
     "metadata": {},
     "output_type": "execute_result"
    }
   ],
   "source": [
    "Newton_Raphson(-2.5,0.001) "
   ]
  },
  {
   "cell_type": "code",
   "execution_count": 309,
   "metadata": {},
   "outputs": [
    {
     "data": {
      "text/plain": [
       "((0.7842555614995815, 1.70841373109376), 12)"
      ]
     },
     "execution_count": 309,
     "metadata": {},
     "output_type": "execute_result"
    }
   ],
   "source": [
    "Newton_Raphson(2.075,0.001)"
   ]
  },
  {
   "cell_type": "code",
   "execution_count": 330,
   "metadata": {},
   "outputs": [],
   "source": [
    "def Bisection(epsilon, a, b):\n",
    "    global control_primera\n",
    "    control_primera = 0\n",
    "    \n",
    "    \n",
    "    while True:\n",
    "        z = (a+b)/2\n",
    "        fz = deriv_g(z)\n",
    "        if abs(fz)<=epsilon:\n",
    "            break\n",
    "            \n",
    "        if fz<0:\n",
    "            a = z\n",
    "        else:\n",
    "            b = z\n",
    "        z = (a+b)/2\n",
    "        fz = deriv_g(z)\n",
    "    return (z,g(z)), control_primera"
   ]
  },
  {
   "cell_type": "markdown",
   "metadata": {},
   "source": [
    "Curiosamente ahora encontramos otro mínimo en el punto x = 3.733 por lo que parece que no es una función unimodal."
   ]
  },
  {
   "cell_type": "code",
   "execution_count": 332,
   "metadata": {},
   "outputs": [
    {
     "data": {
      "text/plain": [
       "((3.733081817626953, -10.21610066532692), 35)"
      ]
     },
     "execution_count": 332,
     "metadata": {},
     "output_type": "execute_result"
    }
   ],
   "source": [
    "Bisection(0.0001,0,5)"
   ]
  },
  {
   "cell_type": "markdown",
   "metadata": {},
   "source": [
    "El método de Bisección ha utilizado el intervalo entre 0 y 5. Mientras que Newton-Raphson se va aproximando por la izquierda, ya que por la derecha diverte mi método. Ergo, vamos a ver cómo está la gráfica entre estos dos puntos"
   ]
  },
  {
   "cell_type": "code",
   "execution_count": 335,
   "metadata": {},
   "outputs": [
    {
     "data": {
      "text/plain": [
       "[]"
      ]
     },
     "execution_count": 335,
     "metadata": {},
     "output_type": "execute_result"
    },
    {
     "data": {
      "image/png": "[encoded data removed]",
      "text/plain": [
       "<Figure size 432x288 with 1 Axes>"
      ]
     },
     "metadata": {
      "needs_background": "light"
     },
     "output_type": "display_data"
    }
   ],
   "source": [
    "x = np.linspace(0, 5, 150)\n",
    "plt.plot(x, g(x), color=\"r\")\n",
    "plt.title(\"g(X)\")\n",
    "plt.grid(True)\n",
    "plt.plot()"
   ]
  },
  {
   "cell_type": "markdown",
   "metadata": {},
   "source": [
    "Y lo que es más: veamos alrededor del punto x=3.733"
   ]
  },
  {
   "cell_type": "code",
   "execution_count": 336,
   "metadata": {},
   "outputs": [
    {
     "data": {
      "text/plain": [
       "[]"
      ]
     },
     "execution_count": 336,
     "metadata": {},
     "output_type": "execute_result"
    },
    {
     "data": {
      "image/png": "[encoded data removed]",
      "text/plain": [
       "<Figure size 432x288 with 1 Axes>"
      ]
     },
     "metadata": {
      "needs_background": "light"
     },
     "output_type": "display_data"
    }
   ],
   "source": [
    "x = np.linspace(2.733, 4.733, 150)\n",
    "plt.plot(x, g(x), color=\"r\")\n",
    "plt.title(\"g(X)\")\n",
    "plt.grid(True)\n",
    "plt.plot()"
   ]
  },
  {
   "cell_type": "code",
   "execution_count": null,
   "metadata": {},
   "outputs": [],
   "source": []
  }
 ],
 "metadata": {
  "kernelspec": {
   "display_name": "Python 3",
   "language": "python",
   "name": "python3"
  },
  "language_info": {
   "codemirror_mode": {
    "name": "ipython",
    "version": 3
   },
   "file_extension": ".py",
   "mimetype": "text/x-python",
   "name": "python",
   "nbconvert_exporter": "python",
   "pygments_lexer": "ipython3",
   "version": "3.8.5"
  }
 },
 "nbformat": 4,
 "nbformat_minor": 4
}
